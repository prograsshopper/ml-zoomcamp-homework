{
 "cells": [
  {
   "cell_type": "code",
   "execution_count": 90,
   "id": "b18989fb-62d1-4f42-a92c-2dca9d35e423",
   "metadata": {},
   "outputs": [],
   "source": [
    "import pandas as pd\n",
    "import numpy as np\n",
    "import seaborn as sb\n",
    "import matplotlib.pyplot as plt"
   ]
  },
  {
   "cell_type": "code",
   "execution_count": 91,
   "id": "3ddc4e50-6988-49d1-8cfc-9fb347f0153b",
   "metadata": {},
   "outputs": [],
   "source": [
    "df = pd.read_csv(\"car_fuel_efficiency.csv\")"
   ]
  },
  {
   "cell_type": "code",
   "execution_count": 95,
   "id": "9d0406e0-2943-433e-a82f-16c82f7c1cf0",
   "metadata": {},
   "outputs": [],
   "source": [
    "base = ['engine_displacement', 'horsepower', 'vehicle_weight', 'model_year'] #, 'fuel_efficiency_mpg']\n",
    "# columns = list(df.columns)\n",
    "# for column in columns:\n",
    "#     if column not in base:\n",
    "#         del df[column]\n",
    "\n",
    "# df.head()"
   ]
  },
  {
   "cell_type": "code",
   "execution_count": 38,
   "id": "1158f867-1de1-4a18-91b4-a7feec910695",
   "metadata": {},
   "outputs": [
    {
     "data": {
      "text/plain": [
       "engine_displacement      0\n",
       "horsepower             708\n",
       "vehicle_weight           0\n",
       "model_year               0\n",
       "fuel_efficiency_mpg      0\n",
       "dtype: int64"
      ]
     },
     "execution_count": 38,
     "metadata": {},
     "output_type": "execute_result"
    }
   ],
   "source": [
    "df.isnull().sum()"
   ]
  },
  {
   "cell_type": "code",
   "execution_count": 49,
   "id": "e11bdc4b-4d82-4889-a8d9-7ddf42081ce0",
   "metadata": {},
   "outputs": [
    {
     "data": {
      "text/plain": [
       "(149.0, 152.0, 149.65729212983547)"
      ]
     },
     "execution_count": 49,
     "metadata": {},
     "output_type": "execute_result"
    }
   ],
   "source": [
    "median = df['horsepower'].median()\n",
    "mode = df['horsepower'].mode()[0]\n",
    "mean = df['horsepower'].mean()\n",
    "median, mode, mean"
   ]
  },
  {
   "cell_type": "code",
   "execution_count": 25,
   "id": "002f0b5f-384a-435d-b4a0-a462f0cb93b8",
   "metadata": {},
   "outputs": [],
   "source": [
    "# Prepare and split the dataset\n",
    "# Shuffle the dataset (the filtered one you created above), use seed 42.\n",
    "# Split your data in train/val/test sets, with 60%/20%/20% distribution."
   ]
  },
  {
   "cell_type": "code",
   "execution_count": 60,
   "id": "974f749c-16b8-433c-9858-1bddb6f74b6d",
   "metadata": {},
   "outputs": [],
   "source": [
    "n = len(df)\n",
    "n_val = int(n * 0.2)\n",
    "n_test = int(n * 0.2)\n",
    "n_train = n - (n_val + n_test)\n",
    "\n",
    "idx = np.arange(n)\n",
    "np.random.seed(2)\n",
    "np.random.shuffle(idx)\n",
    "\n",
    "df_train = df.iloc[idx[:n_train]]\n",
    "df_val = df.iloc[idx[n_train:n_train+n_val]]\n",
    "df_test = df.iloc[idx[n_train+n_val:]]\n",
    "df_train.head(5)\n",
    "\n",
    "y_val = df_val.fuel_efficiency_mpg.values\n",
    "y_test = df_test.fuel_efficiency_mpg.values\n",
    "y_train = df_train.fuel_efficiency_mpg.values"
   ]
  },
  {
   "cell_type": "code",
   "execution_count": 82,
   "id": "24a73831-e87c-441e-a08a-3eca62a143f4",
   "metadata": {},
   "outputs": [],
   "source": [
    "def train_linear_regression_reg(X, y, r=0):\n",
    "    ones = np.ones(X.shape[0])\n",
    "    X = np.column_stack([ones, X]).round()\n",
    "    XTX = X.T.dot(X) # gram matrix\n",
    "    XTX = XTX + r*np.eye(XTX.shape[0])\n",
    "    XTX_inv = np.linalg.inv(XTX)\n",
    "    XTX.dot(XTX_inv).round(1)\n",
    "    w_full = XTX_inv.dot(X.T).dot(y)\n",
    "    return w_full[0], w_full[1:] # bias, weights\n",
    "\n",
    "def train_linear_regression(X, y):\n",
    "    ones = np.ones(X.shape[0])\n",
    "    X = np.column_stack([ones, X]).round()\n",
    "    XTX = X.T.dot(X) # gram matrix\n",
    "    XTX_inv = np.linalg.inv(XTX)\n",
    "    XTX.dot(XTX_inv).round(1)\n",
    "    w_full = XTX_inv.dot(X.T).dot(y)\n",
    "    return w_full[0], w_full[1:] # bias, weights\n",
    "\n",
    "def rmse(y, y_pred):\n",
    "    se = (y - y_pred) ** 2\n",
    "    mse = se.mean()\n",
    "    return np.sqrt(mse)\n",
    "\n",
    "def prepare_X(df, fillna=0):\n",
    "    df = df.copy() # not to change original dataframe\n",
    "    features = base.copy()\n",
    "    df_num = df[features]\n",
    "    df_num = df_num.fillna(fillna)\n",
    "    X = df_num.values\n",
    "    return X"
   ]
  },
  {
   "cell_type": "code",
   "execution_count": 28,
   "id": "faac8567-c4f8-42d5-80b0-3eb68f1ba5df",
   "metadata": {},
   "outputs": [],
   "source": [
    "# We need to deal with missing values for the column from Q1.\n",
    "# We have two options: fill it with 0 or with the mean of this variable.\n",
    "# Try both options. For each, train a linear regression model without regularization using the code from the lessons.\n",
    "# For computing the mean, use the training only!\n",
    "# Use the validation dataset to evaluate the models and compare the RMSE of each option.\n",
    "# Round the RMSE scores to 2 decimal digits using round(score, 2)\n",
    "# Which option gives better RMSE?"
   ]
  },
  {
   "cell_type": "code",
   "execution_count": 83,
   "id": "1db51d9f-5a72-4154-8954-50b87d4d963e",
   "metadata": {},
   "outputs": [
    {
     "data": {
      "text/plain": [
       "0.1194741653014412"
      ]
     },
     "execution_count": 83,
     "metadata": {},
     "output_type": "execute_result"
    }
   ],
   "source": [
    "X_train = prepare_X(df_train, 0)\n",
    "w0, w = train_linear_regression(X_train, y_train)\n",
    "X_val = prepare_X(df_val, 0)\n",
    "y_pred = w0 + X_val.dot(w)\n",
    "rmse(y_val, y_pred)"
   ]
  },
  {
   "cell_type": "code",
   "execution_count": 84,
   "id": "75e84087-13a2-44ab-a6ba-8e0fa92ff8a7",
   "metadata": {},
   "outputs": [
    {
     "data": {
      "text/plain": [
       "0.1194741653014412"
      ]
     },
     "execution_count": 84,
     "metadata": {},
     "output_type": "execute_result"
    }
   ],
   "source": [
    "# fillna(mean)\n",
    "X_train = prepare_X(df_train, mean)\n",
    "w0, w = train_linear_regression(X_train, y_train)\n",
    "X_val = prepare_X(df_val, mean)\n",
    "y_pred = w0 + X_val.dot(w)\n",
    "rmse(y_val, y_pred)"
   ]
  },
  {
   "cell_type": "code",
   "execution_count": 87,
   "id": "91fccb0d-81aa-471c-b200-3eb945a5bf12",
   "metadata": {},
   "outputs": [
    {
     "name": "stdout",
     "output_type": "stream",
     "text": [
      "[(0, 7.10626865176468, 0.12), (0.01, 7.10626865176468, 0.12), (0.1, 7.10626865176468, 0.12), (1, 7.10626865176468, 0.12), (5, 7.10626865176468, 0.12), (10, 7.10626865176468, 0.12), (100, 7.10626865176468, 0.12)]\n"
     ]
    }
   ],
   "source": [
    "scores = []\n",
    "for r in [0, 0.01, 0.1, 1, 5, 10, 100]:\n",
    "    X_train = prepare_X(df_train, 0)\n",
    "    w0, w = train_linear_regression(X_train, y_train)\n",
    "    X_val = prepare_X(df_val, 0)\n",
    "    y_pred = w0 + X_val.dot(w)\n",
    "    score = round(rmse(y_val, y_pred), 2)\n",
    "    scores.append((r, w0, score))\n",
    "    \n",
    "print(sorted(scores, key=lambda sublist: sublist[2]))"
   ]
  },
  {
   "cell_type": "code",
   "execution_count": 71,
   "id": "3eadf801-2f71-4399-ac50-15ce215dd355",
   "metadata": {},
   "outputs": [],
   "source": [
    "We used seed 42 for splitting the data. Let's find out how selecting the seed influences our score.\n",
    "Try different seed values: [0, 1, 2, 3, 4, 5, 6, 7, 8, 9].\n",
    "For each seed, do the train/validation/test split with 60%/20%/20% distribution.\n",
    "Fill the missing values with 0 and train a model without regularization.\n",
    "For each seed, evaluate the model on the validation dataset and collect the RMSE scores.\n",
    "What's the standard deviation of all the scores? To compute the standard deviation, use np.std.\n",
    "Round the result to 3 decimal digits (round(std, 3))"
   ]
  },
  {
   "cell_type": "code",
   "execution_count": 96,
   "id": "a643fcbf-5bfc-4119-93ce-c86f178c3b8d",
   "metadata": {},
   "outputs": [
    {
     "name": "stdout",
     "output_type": "stream",
     "text": [
      "[[0, 0.5206537286913236], [1, 0.5228476803845532], [2, 0.5168352470562333], [3, 0.525671620680411], [4, 0.5213723193310092], [5, 0.5251441954856986], [6, 0.5255570098952508], [7, 0.5068442927589892], [8, 0.5200615380985912], [9, 0.5140857705833753]]\n"
     ]
    },
    {
     "data": {
      "text/plain": [
       "0.006"
      ]
     },
     "execution_count": 96,
     "metadata": {},
     "output_type": "execute_result"
    }
   ],
   "source": [
    "n = len(df)\n",
    "n_val = int(n * 0.2)\n",
    "n_test = int(n * 0.2)\n",
    "n_train = n - (n_val + n_test)\n",
    "\n",
    "idx = np.arange(n)\n",
    "\n",
    "seed_scores = []\n",
    "\n",
    "df_copy = df.copy().fillna(0)\n",
    "\n",
    "for seed in [0, 1, 2, 3, 4, 5, 6, 7, 8, 9]:\n",
    "    np.random.seed(seed)\n",
    "    np.random.shuffle(idx)\n",
    "    df_train = df_copy.iloc[idx[:n_train]]\n",
    "    df_val = df_copy.iloc[idx[n_train:n_train+n_val]]\n",
    "    df_test = df_copy.iloc[idx[n_train+n_val:]]\n",
    "    \n",
    "    y_val = df_val.fuel_efficiency_mpg.values\n",
    "    y_test = df_test.fuel_efficiency_mpg.values\n",
    "    y_train = df_train.fuel_efficiency_mpg.values\n",
    "\n",
    "    del df_val['fuel_efficiency_mpg']\n",
    "    del df_test['fuel_efficiency_mpg']\n",
    "    del df_train['fuel_efficiency_mpg']\n",
    "    \n",
    "    X_train = prepare_X(df_train, 0)\n",
    "    w0, w = train_linear_regression(X_train, y_train)\n",
    "    X_val = prepare_X(df_val, 0)\n",
    "    y_pred = w0 + X_val.dot(w)\n",
    "    score = rmse(y_val, y_pred)\n",
    "    seed_scores.append([seed, score])\n",
    "\n",
    "print(seed_scores)\n",
    "\n",
    "seed_scores = np.array(seed_scores)\n",
    "second_column = seed_scores[:, 1]\n",
    "std_dev = np.std(second_column)\n",
    "round(std_dev, 3)"
   ]
  },
  {
   "cell_type": "code",
   "execution_count": 97,
   "id": "c3eead51-a97d-4caf-903f-99e6f9a6b633",
   "metadata": {},
   "outputs": [
    {
     "data": {
      "text/plain": [
       "0.5156256135782993"
      ]
     },
     "execution_count": 97,
     "metadata": {},
     "output_type": "execute_result"
    }
   ],
   "source": [
    "# Split the dataset like previously, use seed 9.\n",
    "# Combine train and validation datasets.\n",
    "# Fill the missing values with 0 and train a model with r=0.001.\n",
    "# What's the RMSE on the test dataset?\n",
    "\n",
    "n = len(df)\n",
    "n_val = int(n * 0.2)\n",
    "n_test = int(n * 0.2)\n",
    "n_train = n - (n_val + n_test)\n",
    "\n",
    "idx = np.arange(n)\n",
    "np.random.seed(9)\n",
    "np.random.shuffle(idx)\n",
    "\n",
    "df_copy = df.copy().fillna(0)\n",
    "df_train = df_copy.iloc[idx[:n_train]]\n",
    "df_val = df_copy.iloc[idx[n_train:n_train+n_val]]\n",
    "df_test = df_copy.iloc[idx[n_train+n_val:]]\n",
    "\n",
    "y_val = df_val.fuel_efficiency_mpg.values\n",
    "y_test = df_test.fuel_efficiency_mpg.values\n",
    "y_train = df_train.fuel_efficiency_mpg.values\n",
    "\n",
    "df_full_train = pd.concat([df_train, df_val])\n",
    "X_full_train = prepare_X(df_full_train)\n",
    "y_full_train = np.concatenate([y_train, y_val])\n",
    "\n",
    "w0, w = train_linear_regression_reg(X_full_train, y_full_train, 0.001)\n",
    "X_test = prepare_X(df_test)\n",
    "y_pred = w0 + X_test.dot(w)\n",
    "score = rmse(y_test, y_pred)\n",
    "score"
   ]
  },
  {
   "cell_type": "code",
   "execution_count": null,
   "id": "79b37d49-7eea-4251-92ff-8bdf2d81fe75",
   "metadata": {},
   "outputs": [],
   "source": []
  }
 ],
 "metadata": {
  "kernelspec": {
   "display_name": "ml-zoom-poetry",
   "language": "python",
   "name": "ml-zoom-poetry"
  },
  "language_info": {
   "codemirror_mode": {
    "name": "ipython",
    "version": 3
   },
   "file_extension": ".py",
   "mimetype": "text/x-python",
   "name": "python",
   "nbconvert_exporter": "python",
   "pygments_lexer": "ipython3",
   "version": "3.10.9"
  }
 },
 "nbformat": 4,
 "nbformat_minor": 5
}
